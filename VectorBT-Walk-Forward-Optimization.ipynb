{
 "cells": [
  {
   "cell_type": "code",
   "execution_count": 1,
   "id": "2ded788f-4549-4b9f-aa3c-d5ca1b994c73",
   "metadata": {},
   "outputs": [],
   "source": [
    "import numpy as np\n",
    "import scipy.stats as stats\n",
    "import vectorbt as vbt"
   ]
  },
  {
   "cell_type": "code",
   "execution_count": 3,
   "id": "64830195-49b8-448b-bf13-2c8c60f2a168",
   "metadata": {},
   "outputs": [],
   "source": [
    "# load market price data\n",
    "start = \"2015-01-01 UTC\"\n",
    "end = \"2024-01-01 UTC\"\n",
    "prices = vbt.YFData.download(\n",
    "    \"AAPL\",\n",
    "    start=start,\n",
    "    end=end\n",
    ").get(\"Close\")"
   ]
  },
  {
   "cell_type": "code",
   "execution_count": 29,
   "id": "ab722173-9b35-47cf-b22b-ed63b141c6db",
   "metadata": {},
   "outputs": [],
   "source": [
    "# split data for walk-forward optimization\n",
    "# 20 splits, each two years long and reserves 180 days for the test\n",
    "(in_price, in_indexes), (out_price, out_indexes) = prices.vbt.rolling_split(\n",
    "    n=20, # breaking the data into 20 pieces\n",
    "    window_len=365 * 2, # in-sample period\n",
    "    set_lens=(180,), # out-of-sample period\n",
    "    left_to_right=False, # data splits begin from most recent to oldest\n",
    ")"
   ]
  },
  {
   "cell_type": "code",
   "execution_count": 7,
   "id": "63a347f6-fcd3-40a5-9cda-0ac69b4798a7",
   "metadata": {},
   "outputs": [],
   "source": [
    "# A function that simulates all possible combinations of MA periods to find the best performing SMA strategy based off the sharpe ratio\n",
    "def simulate_all_params(price, windows, **kwargs): \n",
    "    # windows is a list with all of different possible MA combos\n",
    "    # **kwargs are for extra parameters like short_names\n",
    "    \n",
    "    short_ma, long_ma = vbt.MA.run_combs( # run_comb() calculates all thoses different combination\n",
    "        price,\n",
    "        windows,\n",
    "        r=2, # creates a pair of the moving averages\n",
    "        short_names=[\"short\", \"long\"]\n",
    "    )\n",
    "    entries = short_ma.ma_crossed_above(long_ma)\n",
    "    exits = short_ma.ma_crossed_below(long_ma)\n",
    "    pf = vbt.Portfolio.from_signals(price, entries, exits, **kwargs)\n",
    "    return pf.sharpe_ratio() # return the sharpe ratio for each of the combination of our SMAs"
   ]
  },
  {
   "cell_type": "code",
   "execution_count": 9,
   "id": "4de65d63-78a3-4111-8f37-f8af3ff1f401",
   "metadata": {},
   "outputs": [],
   "source": [
    "# helper functions that return the indexes and parameters where the performance is maximized\n",
    "def get_best_index(performance):\n",
    "    # performance is dataframe with stats about our SMAs\n",
    "    return performance[\n",
    "        performance.groupby(\"split_idx\").idxmax()\n",
    "    # from stats group those results by each data split \n",
    "    # then find the ones with best stats in each split\n",
    "    ].index\n",
    "\n",
    "# from our best SMAs across each split each those paramaters\n",
    "def get_best_params(best_index, level_name):\n",
    "    return best_index.get_level_values(level_name).to_numpy() \n",
    "    # return the best parameters as an numpy array for compatibility"
   ]
  },
  {
   "cell_type": "code",
   "execution_count": 11,
   "id": "ce4d15dd-211d-446a-8956-5e52a33533e1",
   "metadata": {},
   "outputs": [],
   "source": [
    "# A function that runs the backtest given the best moving average values and returns the associated Sharpe ratio\n",
    "def simulate_best_params(price, best_short_windows, best_long_windows, **kwargs):\n",
    "    short_ma = vbt.MA.run( # short-term moving averages\n",
    "        price,\n",
    "        window=best_short_windows,\n",
    "        per_column=True\n",
    "    )\n",
    "    long_ma = vbt.MA.run( # long-term moving averages \n",
    "        price,\n",
    "        window=best_long_windows,\n",
    "        per_column=True\n",
    "    )\n",
    "    entries = short_ma.ma_crossed_above(long_ma) # buy signals\n",
    "    exits = short_ma.ma_crossed_below(long_ma) # sell signals\n",
    "    pf = vbt.Portfolio.from_signals(\n",
    "        price, entries, exits, **kwargs)  # portfolio\n",
    "    return pf.sharpe_ratio() #algo's strats"
   ]
  },
  {
   "cell_type": "code",
   "execution_count": 13,
   "id": "c3d70371-259b-458d-ad32-8a549f452fe6",
   "metadata": {},
   "outputs": [],
   "source": [
    "# execute the analysis by passing in a range of moving average windows to simulute_all_params\n",
    "# returns the sharpe ratio for every combination\n",
    "\n",
    "windows = np.arange(10, 40) # an array of window sizes\n",
    "\n",
    "in_sharpe = simulate_all_params(\n",
    "    in_price,\n",
    "    windows,\n",
    "    direction=\"both\", # both long and short positions\n",
    "    freq=\"d\" # frequency set to dail\n",
    ")"
   ]
  },
  {
   "cell_type": "code",
   "execution_count": 15,
   "id": "6329d389-f2aa-494a-92cd-fd1fef883af5",
   "metadata": {},
   "outputs": [],
   "source": [
    "# return the best in-sample moving average windows and combine them into one array\n",
    "\n",
    "in_best_index = get_best_index(in_sharpe) # gets the results from above, uses our help function to get the best parameters\n",
    "# then returns a MultiIndex with the best parameters\n",
    "\n",
    "in_best_short_windows = get_best_params( # finds the best short-term moving averages window lengths\n",
    "    in_best_index,\n",
    "    \"short_window\"\n",
    ")\n",
    "in_best_long_windows = get_best_params( # finds the best long-term moving averages window lengths\n",
    "    in_best_index,\n",
    "    \"long_window\"\n",
    ")\n",
    "in_best_window_pairs = np.array( # converts into a numpy array\n",
    "    list(\n",
    "        zip(\n",
    "            in_best_short_windows, # combines the best short and long term moving averages\n",
    "            in_best_long_windows\n",
    "        )\n",
    "    )\n",
    ")"
   ]
  },
  {
   "cell_type": "code",
   "execution_count": 17,
   "id": "8f377532-ef34-4ac6-8ec9-95a45d385787",
   "metadata": {},
   "outputs": [],
   "source": [
    "#retrieve the out-of-sample Sharpe ratios using the optimized moving average windows\n",
    "out_test_sharpe = simulate_best_params(\n",
    "    out_price, # testing dataset for validations/assessment of our algo\n",
    "    in_best_short_windows,\n",
    "    in_best_long_windows,\n",
    "    direction=\"both\",\n",
    "    freq=\"d\"\n",
    ")\n",
    "\n",
    "# Using the best parameters we found during training, and see how well the perform on new (out_of_sample) data"
   ]
  },
  {
   "cell_type": "code",
   "execution_count": 19,
   "id": "df2bd7a1-73a3-49c6-b7ff-5f488d1095cb",
   "metadata": {},
   "outputs": [
    {
     "data": {
      "text/plain": [
       "ma_window  ma_window  split_idx\n",
       "10         11         0            1.854818\n",
       "           17         1           -0.111151\n",
       "           11         2           -2.377270\n",
       "11         16         3           -1.339048\n",
       "18         23         4            1.868990\n",
       "23         26         5            0.670555\n",
       "24         25         6            0.095804\n",
       "23         26         7            2.307156\n",
       "20         26         8            1.022533\n",
       "22         25         9            1.716510\n",
       "23         24         10           0.571056\n",
       "18         19         11           1.695676\n",
       "35         37         12          -1.986084\n",
       "18         20         13           1.036891\n",
       "                      14           0.666488\n",
       "                      15          -0.006653\n",
       "37         39         16          -1.523036\n",
       "20         21         17           2.275778\n",
       "19         21         18           1.029716\n",
       "16         18         19          -3.461469\n",
       "Name: sharpe_ratio, dtype: float64"
      ]
     },
     "metadata": {},
     "output_type": "display_data"
    }
   ],
   "source": [
    "display(out_test_sharpe)"
   ]
  },
  {
   "cell_type": "code",
   "execution_count": 21,
   "id": "473022da-504f-4319-949c-8061e9f73777",
   "metadata": {},
   "outputs": [],
   "source": [
    "# compare the strategy's in-sample results vs. out-of-sample results\n",
    "\n",
    "in_sample_best = in_sharpe[in_best_index].values # Extracts the Sharpe ratios of the most optimal combos from training\n",
    "out_sample_test = out_test_sharpe.values # Extracts the sharpe ratio, the overall algorithms performance during the valdiation phase\n",
    "\n",
    "t, p = stats.ttest_ind(\n",
    "    a=out_sample_test,\n",
    "    b=in_sample_best,\n",
    "    alternative=\"greater\" # tests if out-of-sample performance is significantly better than in-sample data\n",
    ")"
   ]
  },
  {
   "cell_type": "code",
   "execution_count": 23,
   "id": "dea500a1-18ee-4951-b5c3-734d0b9f5592",
   "metadata": {},
   "outputs": [
    {
     "data": {
      "text/plain": [
       "0.9996137090509504"
      ]
     },
     "metadata": {},
     "output_type": "display_data"
    }
   ],
   "source": [
    "display(p)"
   ]
  },
  {
   "cell_type": "code",
   "execution_count": 25,
   "id": "f802549d-e801-4513-93b9-80f99c40d524",
   "metadata": {},
   "outputs": [
    {
     "name": "stdout",
     "output_type": "stream",
     "text": [
      "In-sample Sharpe: 1.7123868915703866\n",
      "Out-sample Sharpe: 0.3003629394867363\n"
     ]
    }
   ],
   "source": [
    "print(\"In-sample Sharpe:\", in_sample_best.mean())\n",
    "print(\"Out-sample Sharpe:\", out_sample_test.mean())"
   ]
  }
 ],
 "metadata": {
  "kernelspec": {
   "display_name": "Python [conda env:ai-trading]",
   "language": "python",
   "name": "conda-env-ai-trading-py"
  },
  "language_info": {
   "codemirror_mode": {
    "name": "ipython",
    "version": 3
   },
   "file_extension": ".py",
   "mimetype": "text/x-python",
   "name": "python",
   "nbconvert_exporter": "python",
   "pygments_lexer": "ipython3",
   "version": "3.10.16"
  }
 },
 "nbformat": 4,
 "nbformat_minor": 5
}
