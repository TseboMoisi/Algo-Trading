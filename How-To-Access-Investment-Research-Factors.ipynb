{
 "cells": [
  {
   "cell_type": "code",
   "execution_count": 27,
   "id": "511e2e13-9a4d-476b-ad61-8af7e5158571",
   "metadata": {},
   "outputs": [],
   "source": [
    "import pandas as pd\n",
    "import pandas_datareader as pdr"
   ]
  },
  {
   "cell_type": "code",
   "execution_count": 52,
   "id": "ea083ad5-c2b0-4248-948f-5925f0b46f6b",
   "metadata": {},
   "outputs": [
    {
     "name": "stderr",
     "output_type": "stream",
     "text": [
      "C:\\Users\\tsebo\\AppData\\Local\\Temp\\ipykernel_16392\\1913927924.py:2: FutureWarning: The argument 'date_parser' is deprecated and will be removed in a future version. Please use 'date_format' instead, or read your data in as 'object' dtype and then call 'to_datetime'.\n",
      "  factors = pdr.get_data_famafrench(\"F-F_Research_Data_Factors\")\n",
      "C:\\Users\\tsebo\\AppData\\Local\\Temp\\ipykernel_16392\\1913927924.py:2: FutureWarning: The argument 'date_parser' is deprecated and will be removed in a future version. Please use 'date_format' instead, or read your data in as 'object' dtype and then call 'to_datetime'.\n",
      "  factors = pdr.get_data_famafrench(\"F-F_Research_Data_Factors\")\n"
     ]
    }
   ],
   "source": [
    "# Retrieve the Fama French 3-factor data\n",
    "factors = pdr.get_data_famafrench(\"F-F_Research_Data_Factors\")"
   ]
  },
  {
   "cell_type": "code",
   "execution_count": 54,
   "id": "c741dfa4-1f8d-4f92-af2b-ca51e79792f3",
   "metadata": {},
   "outputs": [
    {
     "data": {
      "text/html": [
       "<div>\n",
       "<style scoped>\n",
       "    .dataframe tbody tr th:only-of-type {\n",
       "        vertical-align: middle;\n",
       "    }\n",
       "\n",
       "    .dataframe tbody tr th {\n",
       "        vertical-align: top;\n",
       "    }\n",
       "\n",
       "    .dataframe thead th {\n",
       "        text-align: right;\n",
       "    }\n",
       "</style>\n",
       "<table border=\"1\" class=\"dataframe\">\n",
       "  <thead>\n",
       "    <tr style=\"text-align: right;\">\n",
       "      <th></th>\n",
       "      <th>Mkt-RF</th>\n",
       "      <th>SMB</th>\n",
       "      <th>HML</th>\n",
       "      <th>RF</th>\n",
       "    </tr>\n",
       "    <tr>\n",
       "      <th>Date</th>\n",
       "      <th></th>\n",
       "      <th></th>\n",
       "      <th></th>\n",
       "      <th></th>\n",
       "    </tr>\n",
       "  </thead>\n",
       "  <tbody>\n",
       "    <tr>\n",
       "      <th>2020-04</th>\n",
       "      <td>13.65</td>\n",
       "      <td>2.45</td>\n",
       "      <td>-1.34</td>\n",
       "      <td>0.00</td>\n",
       "    </tr>\n",
       "    <tr>\n",
       "      <th>2020-05</th>\n",
       "      <td>5.58</td>\n",
       "      <td>2.49</td>\n",
       "      <td>-4.85</td>\n",
       "      <td>0.01</td>\n",
       "    </tr>\n",
       "    <tr>\n",
       "      <th>2020-06</th>\n",
       "      <td>2.46</td>\n",
       "      <td>2.69</td>\n",
       "      <td>-2.23</td>\n",
       "      <td>0.01</td>\n",
       "    </tr>\n",
       "    <tr>\n",
       "      <th>2020-07</th>\n",
       "      <td>5.77</td>\n",
       "      <td>-2.30</td>\n",
       "      <td>-1.44</td>\n",
       "      <td>0.01</td>\n",
       "    </tr>\n",
       "    <tr>\n",
       "      <th>2020-08</th>\n",
       "      <td>7.63</td>\n",
       "      <td>-0.28</td>\n",
       "      <td>-2.88</td>\n",
       "      <td>0.01</td>\n",
       "    </tr>\n",
       "  </tbody>\n",
       "</table>\n",
       "</div>"
      ],
      "text/plain": [
       "         Mkt-RF   SMB   HML    RF\n",
       "Date                             \n",
       "2020-04   13.65  2.45 -1.34  0.00\n",
       "2020-05    5.58  2.49 -4.85  0.01\n",
       "2020-06    2.46  2.69 -2.23  0.01\n",
       "2020-07    5.77 -2.30 -1.44  0.01\n",
       "2020-08    7.63 -0.28 -2.88  0.01"
      ]
     },
     "metadata": {},
     "output_type": "display_data"
    }
   ],
   "source": [
    "# Display the monthly data\n",
    "display(factors[0].head())"
   ]
  },
  {
   "cell_type": "code",
   "execution_count": 56,
   "id": "6f90929e-59ca-4a3c-89a1-ed7162336c73",
   "metadata": {},
   "outputs": [
    {
     "data": {
      "text/html": [
       "<div>\n",
       "<style scoped>\n",
       "    .dataframe tbody tr th:only-of-type {\n",
       "        vertical-align: middle;\n",
       "    }\n",
       "\n",
       "    .dataframe tbody tr th {\n",
       "        vertical-align: top;\n",
       "    }\n",
       "\n",
       "    .dataframe thead th {\n",
       "        text-align: right;\n",
       "    }\n",
       "</style>\n",
       "<table border=\"1\" class=\"dataframe\">\n",
       "  <thead>\n",
       "    <tr style=\"text-align: right;\">\n",
       "      <th></th>\n",
       "      <th>Mkt-RF</th>\n",
       "      <th>SMB</th>\n",
       "      <th>HML</th>\n",
       "      <th>RF</th>\n",
       "    </tr>\n",
       "    <tr>\n",
       "      <th>Date</th>\n",
       "      <th></th>\n",
       "      <th></th>\n",
       "      <th></th>\n",
       "      <th></th>\n",
       "    </tr>\n",
       "  </thead>\n",
       "  <tbody>\n",
       "    <tr>\n",
       "      <th>2020</th>\n",
       "      <td>23.66</td>\n",
       "      <td>12.72</td>\n",
       "      <td>-46.10</td>\n",
       "      <td>0.45</td>\n",
       "    </tr>\n",
       "    <tr>\n",
       "      <th>2021</th>\n",
       "      <td>23.57</td>\n",
       "      <td>-3.78</td>\n",
       "      <td>25.39</td>\n",
       "      <td>0.04</td>\n",
       "    </tr>\n",
       "    <tr>\n",
       "      <th>2022</th>\n",
       "      <td>-21.58</td>\n",
       "      <td>-7.04</td>\n",
       "      <td>25.97</td>\n",
       "      <td>1.43</td>\n",
       "    </tr>\n",
       "    <tr>\n",
       "      <th>2023</th>\n",
       "      <td>21.69</td>\n",
       "      <td>-3.28</td>\n",
       "      <td>-13.70</td>\n",
       "      <td>4.95</td>\n",
       "    </tr>\n",
       "    <tr>\n",
       "      <th>2024</th>\n",
       "      <td>19.78</td>\n",
       "      <td>-11.13</td>\n",
       "      <td>-9.10</td>\n",
       "      <td>5.26</td>\n",
       "    </tr>\n",
       "  </tbody>\n",
       "</table>\n",
       "</div>"
      ],
      "text/plain": [
       "      Mkt-RF    SMB    HML    RF\n",
       "Date                            \n",
       "2020   23.66  12.72 -46.10  0.45\n",
       "2021   23.57  -3.78  25.39  0.04\n",
       "2022  -21.58  -7.04  25.97  1.43\n",
       "2023   21.69  -3.28 -13.70  4.95\n",
       "2024   19.78 -11.13  -9.10  5.26"
      ]
     },
     "metadata": {},
     "output_type": "display_data"
    }
   ],
   "source": [
    "# Display the annual data\n",
    "display(factors[1].head())"
   ]
  },
  {
   "cell_type": "code",
   "execution_count": null,
   "id": "225ca356-efed-45bf-8231-17b754f96de7",
   "metadata": {},
   "outputs": [],
   "source": []
  }
 ],
 "metadata": {
  "kernelspec": {
   "display_name": "Python [conda env:ai-trading]",
   "language": "python",
   "name": "conda-env-ai-trading-py"
  },
  "language_info": {
   "codemirror_mode": {
    "name": "ipython",
    "version": 3
   },
   "file_extension": ".py",
   "mimetype": "text/x-python",
   "name": "python",
   "nbconvert_exporter": "python",
   "pygments_lexer": "ipython3",
   "version": "3.10.16"
  }
 },
 "nbformat": 4,
 "nbformat_minor": 5
}
